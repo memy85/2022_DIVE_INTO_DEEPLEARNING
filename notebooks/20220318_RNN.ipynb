{
 "cells": [
  {
   "cell_type": "markdown",
   "metadata": {},
   "source": [
    "# Recurrent Neural Network\n",
    "- mathematical experession\n",
    "$$P(x_t|x_{t-1},..,x_1) \\approx P(x_t|h_{t-1})$$\n",
    "$$ h_t = f(x_t, h_{t-1}) $$\n",
    "\n",
    "- Neural Network Hidden state\n",
    "$$ H = \\phi(XW_{xh} + b_h)$$"
   ]
  },
  {
   "cell_type": "code",
   "execution_count": 1,
   "metadata": {},
   "outputs": [
    {
     "data": {
      "text/plain": [
       "tensor([[-0.9444, -0.8728,  0.1801, -1.7676],\n",
       "        [-1.4616, -0.3225, -0.2576, -1.2187],\n",
       "        [-1.5597, -0.7058,  0.1005, -0.1664]])"
      ]
     },
     "execution_count": 1,
     "metadata": {},
     "output_type": "execute_result"
    }
   ],
   "source": [
    "import torch\n",
    "from d2l import torch as d2l\n",
    "\n",
    "X, W_xh = torch.normal(0, 1, (3, 1)), torch.normal(0, 1, (1, 4)) # x는 3,1의 벡터고 weight는 1,4의 weight\n",
    "H, W_hh = torch.normal(0, 1, (3, 4)), torch.normal(0, 1, (4, 4))\n",
    "torch.matmul(X, W_xh) + torch.matmul(H, W_hh) # output"
   ]
  },
  {
   "cell_type": "markdown",
   "metadata": {},
   "source": [
    "위와 같은 상황을 선형대수적으로 표현할 경우 아래처럼 concat을 해서 표현할 수 있을 것이다."
   ]
  },
  {
   "cell_type": "code",
   "execution_count": 2,
   "metadata": {},
   "outputs": [
    {
     "data": {
      "text/plain": [
       "tensor([[-0.9444, -0.8728,  0.1801, -1.7676],\n",
       "        [-1.4616, -0.3225, -0.2576, -1.2187],\n",
       "        [-1.5597, -0.7058,  0.1005, -0.1664]])"
      ]
     },
     "execution_count": 2,
     "metadata": {},
     "output_type": "execute_result"
    }
   ],
   "source": [
    "torch.matmul(torch.cat((X, H), 1), torch.cat((W_xh, W_hh), 0)) "
   ]
  },
  {
   "cell_type": "markdown",
   "metadata": {},
   "source": [
    "Implementation of RNN"
   ]
  },
  {
   "cell_type": "code",
   "execution_count": 1,
   "metadata": {},
   "outputs": [],
   "source": [
    "import math\n",
    "import torch\n",
    "from torch import nn\n",
    "from torch.nn import functional as F\n",
    "from d2l import torch as d2l\n",
    "\n",
    "batch_size, num_steps = 32, 35\n",
    "train_iter, vocab = d2l.load_data_time_machine(batch_size, num_steps) # load time machine data"
   ]
  },
  {
   "cell_type": "code",
   "execution_count": 2,
   "metadata": {},
   "outputs": [
    {
     "data": {
      "text/plain": [
       "tensor([[1, 0, 0, 0, 0, 0, 0, 0, 0, 0, 0, 0, 0, 0, 0, 0, 0, 0, 0, 0, 0, 0, 0, 0,\n",
       "         0, 0, 0, 0],\n",
       "        [0, 0, 1, 0, 0, 0, 0, 0, 0, 0, 0, 0, 0, 0, 0, 0, 0, 0, 0, 0, 0, 0, 0, 0,\n",
       "         0, 0, 0, 0]])"
      ]
     },
     "execution_count": 2,
     "metadata": {},
     "output_type": "execute_result"
    }
   ],
   "source": [
    "# one hot encoding\n",
    "# match each index to unit vector\n",
    "\n",
    "F.one_hot(torch.tensor([0, 2]), len(vocab)) # one hot vector for index 0 and 2"
   ]
  },
  {
   "cell_type": "code",
   "execution_count": 9,
   "metadata": {},
   "outputs": [
    {
     "data": {
      "text/plain": [
       "torch.Size([5, 2, 28])"
      ]
     },
     "execution_count": 9,
     "metadata": {},
     "output_type": "execute_result"
    }
   ],
   "source": [
    "X = torch.arange(10).reshape((2, 5)) \n",
    "# 2개의 batch로 만든다. \n",
    "# 각 batch에 5개의 index가 들어있는 벡터를 만듦\n",
    "# 각 index에 대해서 28차원의 one_hot encoding\n",
    "\n",
    "F.one_hot(X.T, 28).shape \n",
    "# 5,2,28 차원으로 바뀌었다. \n",
    "# 0,1,2,3 ..은 index이고\n",
    "# index에 따라서"
   ]
  },
  {
   "cell_type": "code",
   "execution_count": 20,
   "metadata": {},
   "outputs": [
    {
     "name": "stdout",
     "output_type": "stream",
     "text": [
      "tensor([[1, 0, 0, 0, 0, 0, 0, 0, 0, 0, 0, 0, 0, 0, 0, 0, 0, 0, 0, 0, 0, 0, 0, 0,\n",
      "         0, 0, 0, 0],\n",
      "        [0, 0, 0, 0, 0, 1, 0, 0, 0, 0, 0, 0, 0, 0, 0, 0, 0, 0, 0, 0, 0, 0, 0, 0,\n",
      "         0, 0, 0, 0]])\n",
      "tensor([[0, 1, 0, 0, 0, 0, 0, 0, 0, 0, 0, 0, 0, 0, 0, 0, 0, 0, 0, 0, 0, 0, 0, 0,\n",
      "         0, 0, 0, 0],\n",
      "        [0, 0, 0, 0, 0, 0, 1, 0, 0, 0, 0, 0, 0, 0, 0, 0, 0, 0, 0, 0, 0, 0, 0, 0,\n",
      "         0, 0, 0, 0]])\n",
      "tensor([[0, 0, 1, 0, 0, 0, 0, 0, 0, 0, 0, 0, 0, 0, 0, 0, 0, 0, 0, 0, 0, 0, 0, 0,\n",
      "         0, 0, 0, 0],\n",
      "        [0, 0, 0, 0, 0, 0, 0, 1, 0, 0, 0, 0, 0, 0, 0, 0, 0, 0, 0, 0, 0, 0, 0, 0,\n",
      "         0, 0, 0, 0]])\n",
      "tensor([[0, 0, 0, 1, 0, 0, 0, 0, 0, 0, 0, 0, 0, 0, 0, 0, 0, 0, 0, 0, 0, 0, 0, 0,\n",
      "         0, 0, 0, 0],\n",
      "        [0, 0, 0, 0, 0, 0, 0, 0, 1, 0, 0, 0, 0, 0, 0, 0, 0, 0, 0, 0, 0, 0, 0, 0,\n",
      "         0, 0, 0, 0]])\n",
      "tensor([[0, 0, 0, 0, 1, 0, 0, 0, 0, 0, 0, 0, 0, 0, 0, 0, 0, 0, 0, 0, 0, 0, 0, 0,\n",
      "         0, 0, 0, 0],\n",
      "        [0, 0, 0, 0, 0, 0, 0, 0, 0, 1, 0, 0, 0, 0, 0, 0, 0, 0, 0, 0, 0, 0, 0, 0,\n",
      "         0, 0, 0, 0]])\n"
     ]
    }
   ],
   "source": [
    "for x in F.one_hot(X.T,28):\n",
    "    print(x)"
   ]
  },
  {
   "cell_type": "code",
   "execution_count": 15,
   "metadata": {},
   "outputs": [],
   "source": [
    "# initialize model parameters\n",
    "\n",
    "def get_params(vocab_size, num_hiddens, device):\n",
    "    num_inputs = num_outputs = vocab_size\n",
    "    \n",
    "    def normal(shape):\n",
    "        return torch.randn(size=shape, device=device) * 0.01\n",
    "\n",
    "    # Hidden Layer parameter, Hidden output 계산\n",
    "    W_xh = normal((num_inputs, num_hiddens))\n",
    "    W_hh = normal((num_hiddens, num_hiddens))\n",
    "    b_h = torch.zeros(num_hiddens, device=device)\n",
    "    \n",
    "    # Output Layer parameter, Output 계산\n",
    "    W_hq = normal((num_hiddens, num_outputs))\n",
    "    b_q = torch.zeros(num_outputs, device=device)\n",
    "    \n",
    "    # Attach gradient. gradient 계산 실행되게끔\n",
    "    params = [W_xh, W_hh, b_h, W_hq, b_q]\n",
    "    for param in params:\n",
    "        param.requires_grad_(True)\n",
    "    return params\n"
   ]
  },
  {
   "cell_type": "markdown",
   "metadata": {},
   "source": [
    "## RNN model"
   ]
  },
  {
   "cell_type": "code",
   "execution_count": 48,
   "metadata": {},
   "outputs": [],
   "source": [
    "def init_rnn_state(batch_size, num_hidden, device):\n",
    "    return torch.zeros((batch_size, num_hidden),device=device)\n",
    "\n",
    "init_state = init_rnn_state(2,28, device='cpu')"
   ]
  },
  {
   "cell_type": "code",
   "execution_count": 80,
   "metadata": {},
   "outputs": [],
   "source": [
    "def rnn(inputs, state, params):\n",
    "    '''\n",
    "    Input shape : (num_steps, batch_size, vocab_size)\n",
    "    순차적으로(num_steps) 돌아가게 하기 위해서 num_steps가 0쨰 차원에 위치한다. \n",
    "    '''\n",
    "    W_xh, W_hh, b_h, W_hq, b_q = params\n",
    "    H = state # Hidden state output\n",
    "    outputs = []\n",
    "    for X in inputs : # 각 timestep이 돌아가면서 for문 진행\n",
    "        H = torch.tanh(torch.mm(X, W_xh) + torch.mm(H, W_hh) + b_h)\n",
    "        Y = torch.mm(H, W_hq) + b_q # 배치 사이즈만큼 Y가 나올 것이다.\n",
    "        outputs.append(Y) # \n",
    "    return torch.cat(outputs, dim=0), (H,)"
   ]
  },
  {
   "cell_type": "code",
   "execution_count": 81,
   "metadata": {},
   "outputs": [
    {
     "data": {
      "text/plain": [
       "torch.Size([5, 2, 28])"
      ]
     },
     "execution_count": 81,
     "metadata": {},
     "output_type": "execute_result"
    }
   ],
   "source": [
    "sample = F.one_hot(X.T, 28)\n",
    "sample.shape"
   ]
  },
  {
   "cell_type": "code",
   "execution_count": null,
   "metadata": {},
   "outputs": [],
   "source": [
    "init_params = get_params(28,28, device='cpu')\n",
    "rnn(sample, init_state, init_params)[0].shape"
   ]
  },
  {
   "cell_type": "code",
   "execution_count": 75,
   "metadata": {},
   "outputs": [],
   "source": [
    "class RNNModelScratch:\n",
    "    \n",
    "    def __init__(self, vocab_size, num_hiddens, device,\n",
    "                 get_params, init_state, forward_fn):\n",
    "        self.vocab_size, self.num_hiddens = vocab_size, num_hiddens\n",
    "        self.params = get_params(vocab_size, num_hiddens, device)\n",
    "        self.init_state, self.forward_fn = init_state, forward_fn\n",
    "        \n",
    "    def __call__(self, X, state): # call을 해줄 때, X랑 state input으로 넣어주면 forwarding 해준다.\n",
    "        X = F.one_hot(X.T, self.vocab_size).type(torch.float32)\n",
    "        return self.forward_fn(X, state, self.params)\n",
    "    \n",
    "    def begin_state(self, batch_size, device):\n",
    "        return self.init_state(batch_size, self.num_hiddens, device)"
   ]
  },
  {
   "cell_type": "code",
   "execution_count": 83,
   "metadata": {},
   "outputs": [
    {
     "data": {
      "text/plain": [
       "(torch.Size([10, 28]), 1, torch.Size([2, 512]))"
      ]
     },
     "execution_count": 83,
     "metadata": {},
     "output_type": "execute_result"
    }
   ],
   "source": [
    "num_hiddens = 512\n",
    "net = RNNModelScratch(len(vocab), num_hiddens, 'cpu', get_params,\n",
    "                      init_rnn_state, rnn)\n",
    "state = net.begin_state(X.shape[0], device='cpu')\n",
    "Y, new_state = net(X, state)\n",
    "Y.shape, len(new_state), new_state[0].shape"
   ]
  },
  {
   "cell_type": "markdown",
   "metadata": {},
   "source": [
    "Prediction"
   ]
  },
  {
   "cell_type": "code",
   "execution_count": 88,
   "metadata": {},
   "outputs": [],
   "source": [
    "def predict_ch8(prefix, num_preds, net, vocab, device):  #@save\n",
    "    \"\"\"Generate new characters following the `prefix`.\"\"\"\n",
    "    state = net.begin_state(batch_size=1, device=device)\n",
    "    outputs = [vocab[prefix[0]]]\n",
    "    get_input = lambda: torch.tensor([outputs[-1]], device=device).reshape((1, 1))\n",
    "    for y in prefix[1:]:  # Warm-up period\n",
    "        _, state = net(get_input(), state)\n",
    "        outputs.append(vocab[y])\n",
    "    for _ in range(num_preds):  # Predict `num_preds` steps\n",
    "        y, state = net(get_input(), state)\n",
    "        outputs.append(int(y.argmax(dim=1).reshape(1)))\n",
    "    return ''.join([vocab.idx_to_token[i] for i in outputs])"
   ]
  },
  {
   "cell_type": "code",
   "execution_count": 90,
   "metadata": {},
   "outputs": [
    {
     "ename": "TypeError",
     "evalue": "mm(): argument 'input' (position 1) must be Tensor, not tuple",
     "output_type": "error",
     "traceback": [
      "\u001b[0;31m---------------------------------------------------------------------------\u001b[0m",
      "\u001b[0;31mTypeError\u001b[0m                                 Traceback (most recent call last)",
      "\u001b[1;32m/home/wonseok/2022_DIVE_INTO_DEEPLEARNING/notebooks/20220318_RNN.ipynb Cell 20'\u001b[0m in \u001b[0;36m<module>\u001b[0;34m\u001b[0m\n\u001b[0;32m----> <a href='vscode-notebook-cell://ssh-remote%2B112.169.81.70/home/wonseok/2022_DIVE_INTO_DEEPLEARNING/notebooks/20220318_RNN.ipynb#ch0000036vscode-remote?line=0'>1</a>\u001b[0m predict_ch8(\u001b[39m'\u001b[39;49m\u001b[39mtime traveller \u001b[39;49m\u001b[39m'\u001b[39;49m, \u001b[39m10\u001b[39;49m, net, vocab, \u001b[39m'\u001b[39;49m\u001b[39mcpu\u001b[39;49m\u001b[39m'\u001b[39;49m)\n",
      "\u001b[1;32m/home/wonseok/2022_DIVE_INTO_DEEPLEARNING/notebooks/20220318_RNN.ipynb Cell 19'\u001b[0m in \u001b[0;36mpredict_ch8\u001b[0;34m(prefix, num_preds, net, vocab, device)\u001b[0m\n\u001b[1;32m      <a href='vscode-notebook-cell://ssh-remote%2B112.169.81.70/home/wonseok/2022_DIVE_INTO_DEEPLEARNING/notebooks/20220318_RNN.ipynb#ch0000033vscode-remote?line=4'>5</a>\u001b[0m get_input \u001b[39m=\u001b[39m \u001b[39mlambda\u001b[39;00m: torch\u001b[39m.\u001b[39mtensor([outputs[\u001b[39m-\u001b[39m\u001b[39m1\u001b[39m]], device\u001b[39m=\u001b[39mdevice)\u001b[39m.\u001b[39mreshape((\u001b[39m1\u001b[39m, \u001b[39m1\u001b[39m))\n\u001b[1;32m      <a href='vscode-notebook-cell://ssh-remote%2B112.169.81.70/home/wonseok/2022_DIVE_INTO_DEEPLEARNING/notebooks/20220318_RNN.ipynb#ch0000033vscode-remote?line=5'>6</a>\u001b[0m \u001b[39mfor\u001b[39;00m y \u001b[39min\u001b[39;00m prefix[\u001b[39m1\u001b[39m:]:  \u001b[39m# Warm-up period\u001b[39;00m\n\u001b[0;32m----> <a href='vscode-notebook-cell://ssh-remote%2B112.169.81.70/home/wonseok/2022_DIVE_INTO_DEEPLEARNING/notebooks/20220318_RNN.ipynb#ch0000033vscode-remote?line=6'>7</a>\u001b[0m     _, state \u001b[39m=\u001b[39m net(get_input(), state)\n\u001b[1;32m      <a href='vscode-notebook-cell://ssh-remote%2B112.169.81.70/home/wonseok/2022_DIVE_INTO_DEEPLEARNING/notebooks/20220318_RNN.ipynb#ch0000033vscode-remote?line=7'>8</a>\u001b[0m     outputs\u001b[39m.\u001b[39mappend(vocab[y])\n\u001b[1;32m      <a href='vscode-notebook-cell://ssh-remote%2B112.169.81.70/home/wonseok/2022_DIVE_INTO_DEEPLEARNING/notebooks/20220318_RNN.ipynb#ch0000033vscode-remote?line=8'>9</a>\u001b[0m \u001b[39mfor\u001b[39;00m _ \u001b[39min\u001b[39;00m \u001b[39mrange\u001b[39m(num_preds):  \u001b[39m# Predict `num_preds` steps\u001b[39;00m\n",
      "\u001b[1;32m/home/wonseok/2022_DIVE_INTO_DEEPLEARNING/notebooks/20220318_RNN.ipynb Cell 16'\u001b[0m in \u001b[0;36mRNNModelScratch.__call__\u001b[0;34m(self, X, state)\u001b[0m\n\u001b[1;32m      <a href='vscode-notebook-cell://ssh-remote%2B112.169.81.70/home/wonseok/2022_DIVE_INTO_DEEPLEARNING/notebooks/20220318_RNN.ipynb#ch0000022vscode-remote?line=8'>9</a>\u001b[0m \u001b[39mdef\u001b[39;00m \u001b[39m__call__\u001b[39m(\u001b[39mself\u001b[39m, X, state):\n\u001b[1;32m     <a href='vscode-notebook-cell://ssh-remote%2B112.169.81.70/home/wonseok/2022_DIVE_INTO_DEEPLEARNING/notebooks/20220318_RNN.ipynb#ch0000022vscode-remote?line=9'>10</a>\u001b[0m     X \u001b[39m=\u001b[39m F\u001b[39m.\u001b[39mone_hot(X\u001b[39m.\u001b[39mT, \u001b[39mself\u001b[39m\u001b[39m.\u001b[39mvocab_size)\u001b[39m.\u001b[39mtype(torch\u001b[39m.\u001b[39mfloat32)\n\u001b[0;32m---> <a href='vscode-notebook-cell://ssh-remote%2B112.169.81.70/home/wonseok/2022_DIVE_INTO_DEEPLEARNING/notebooks/20220318_RNN.ipynb#ch0000022vscode-remote?line=10'>11</a>\u001b[0m     \u001b[39mreturn\u001b[39;00m \u001b[39mself\u001b[39;49m\u001b[39m.\u001b[39;49mforward_fn(X, state, \u001b[39mself\u001b[39;49m\u001b[39m.\u001b[39;49mparams)\n",
      "\u001b[1;32m/home/wonseok/2022_DIVE_INTO_DEEPLEARNING/notebooks/20220318_RNN.ipynb Cell 13'\u001b[0m in \u001b[0;36mrnn\u001b[0;34m(inputs, state, params)\u001b[0m\n\u001b[1;32m      <a href='vscode-notebook-cell://ssh-remote%2B112.169.81.70/home/wonseok/2022_DIVE_INTO_DEEPLEARNING/notebooks/20220318_RNN.ipynb#ch0000011vscode-remote?line=7'>8</a>\u001b[0m outputs \u001b[39m=\u001b[39m []\n\u001b[1;32m      <a href='vscode-notebook-cell://ssh-remote%2B112.169.81.70/home/wonseok/2022_DIVE_INTO_DEEPLEARNING/notebooks/20220318_RNN.ipynb#ch0000011vscode-remote?line=8'>9</a>\u001b[0m \u001b[39mfor\u001b[39;00m X \u001b[39min\u001b[39;00m inputs : \u001b[39m# 각 timestep이 돌아가면서 for문 진행\u001b[39;00m\n\u001b[0;32m---> <a href='vscode-notebook-cell://ssh-remote%2B112.169.81.70/home/wonseok/2022_DIVE_INTO_DEEPLEARNING/notebooks/20220318_RNN.ipynb#ch0000011vscode-remote?line=9'>10</a>\u001b[0m     H \u001b[39m=\u001b[39m torch\u001b[39m.\u001b[39mtanh(torch\u001b[39m.\u001b[39mmm(X, W_xh) \u001b[39m+\u001b[39m torch\u001b[39m.\u001b[39;49mmm(H, W_hh) \u001b[39m+\u001b[39m b_h)\n\u001b[1;32m     <a href='vscode-notebook-cell://ssh-remote%2B112.169.81.70/home/wonseok/2022_DIVE_INTO_DEEPLEARNING/notebooks/20220318_RNN.ipynb#ch0000011vscode-remote?line=10'>11</a>\u001b[0m     Y \u001b[39m=\u001b[39m torch\u001b[39m.\u001b[39mmm(H, W_hq) \u001b[39m+\u001b[39m b_q \u001b[39m# 배치 사이즈만큼 Y가 나올 것이다.\u001b[39;00m\n\u001b[1;32m     <a href='vscode-notebook-cell://ssh-remote%2B112.169.81.70/home/wonseok/2022_DIVE_INTO_DEEPLEARNING/notebooks/20220318_RNN.ipynb#ch0000011vscode-remote?line=11'>12</a>\u001b[0m     outputs\u001b[39m.\u001b[39mappend(Y) \u001b[39m# \u001b[39;00m\n",
      "\u001b[0;31mTypeError\u001b[0m: mm(): argument 'input' (position 1) must be Tensor, not tuple"
     ]
    }
   ],
   "source": [
    "predict_ch8('time traveller ', 10, net, vocab, 'cpu')"
   ]
  },
  {
   "cell_type": "code",
   "execution_count": null,
   "metadata": {},
   "outputs": [],
   "source": []
  }
 ],
 "metadata": {
  "interpreter": {
   "hash": "5a12aebe7e9621cdb0fd899285562b57c269cf8d403e0406b59548b742c91995"
  },
  "kernelspec": {
   "display_name": "Python 3.8.12 64-bit ('2022_diveintodeeplearning')",
   "language": "python",
   "name": "python3"
  },
  "language_info": {
   "codemirror_mode": {
    "name": "ipython",
    "version": 3
   },
   "file_extension": ".py",
   "mimetype": "text/x-python",
   "name": "python",
   "nbconvert_exporter": "python",
   "pygments_lexer": "ipython3",
   "version": "3.8.12"
  },
  "orig_nbformat": 4
 },
 "nbformat": 4,
 "nbformat_minor": 2
}
