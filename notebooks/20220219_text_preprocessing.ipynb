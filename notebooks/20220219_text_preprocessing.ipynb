{
 "cells": [
  {
   "cell_type": "code",
   "execution_count": 1,
   "metadata": {},
   "outputs": [],
   "source": [
    "import collections\n",
    "import re\n",
    "from d2l import torch as d2l"
   ]
  },
  {
   "cell_type": "code",
   "execution_count": 2,
   "metadata": {},
   "outputs": [
    {
     "name": "stdout",
     "output_type": "stream",
     "text": [
      "# text lines: 3221\n",
      "the time machine by h g wells\n",
      "twinkled and his usually pale face was flushed and animated the\n"
     ]
    }
   ],
   "source": [
    "# @save\n",
    "# d2l.DATA_HUB['time_machine'] = (d2l.DATA_URL + 'timemachine.txt',\n",
    "#                                 '090b5e7e70c295757f55df93cb0a180b9691891a')\n",
    "\n",
    "def read_time_machine():  #@save\n",
    "    \"\"\"Load the time machine dataset into a list of text lines.\"\"\"\n",
    "    with open(d2l.download('time_machine'), 'r') as f:\n",
    "        lines = f.readlines()\n",
    "    return [re.sub('[^A-Za-z]+', ' ', line).strip().lower() for line in lines]\n",
    "\n",
    "lines = read_time_machine()\n",
    "print(f'# text lines: {len(lines)}')\n",
    "print(lines[0])\n",
    "print(lines[10])"
   ]
  },
  {
   "cell_type": "markdown",
   "metadata": {},
   "source": [
    "Tokenization"
   ]
  },
  {
   "cell_type": "code",
   "execution_count": 3,
   "metadata": {},
   "outputs": [
    {
     "name": "stdout",
     "output_type": "stream",
     "text": [
      "['the', 'time', 'machine', 'by', 'h', 'g', 'wells']\n",
      "[]\n",
      "[]\n",
      "[]\n",
      "[]\n",
      "['i']\n",
      "[]\n",
      "[]\n",
      "['the', 'time', 'traveller', 'for', 'so', 'it', 'will', 'be', 'convenient', 'to', 'speak', 'of', 'him']\n",
      "['was', 'expounding', 'a', 'recondite', 'matter', 'to', 'us', 'his', 'grey', 'eyes', 'shone', 'and']\n",
      "['twinkled', 'and', 'his', 'usually', 'pale', 'face', 'was', 'flushed', 'and', 'animated', 'the']\n"
     ]
    }
   ],
   "source": [
    "def tokenize(lines, token='word'):\n",
    "    '''\n",
    "    split text lines into word or character tokens.\n",
    "    '''\n",
    "    if token == 'word':\n",
    "        return [line.split() for line in lines]\n",
    "    elif token == 'char':\n",
    "        return [list(line) for line in lines]\n",
    "    else :\n",
    "        print('ERROR : unknown token type: '+ token)\n",
    "\n",
    "tokens = tokenize(lines)\n",
    "for i in range(11):\n",
    "    print(tokens[i])"
   ]
  },
  {
   "cell_type": "markdown",
   "metadata": {},
   "source": [
    "Property function"
   ]
  },
  {
   "cell_type": "code",
   "execution_count": 4,
   "metadata": {},
   "outputs": [],
   "source": [
    "class Person:\n",
    "    def __init__(self,firstname, lastname, age):\n",
    "        self.firstname = firstname\n",
    "        self.lastname = lastname\n",
    "        self.age = age\n",
    "    \n",
    "    def get_age(self):\n",
    "        return self._age\n",
    "    \n",
    "    def set_age(self, age):\n",
    "        if age < 0 :\n",
    "            raise ValueError(\"Invalid age\")\n",
    "        self._age = age\n",
    "    age = property(get_age, set_age)      # getter setter 호출"
   ]
  },
  {
   "cell_type": "markdown",
   "metadata": {},
   "source": [
    "It is possilbe to simplify this"
   ]
  },
  {
   "cell_type": "code",
   "execution_count": 5,
   "metadata": {},
   "outputs": [
    {
     "ename": "ValueError",
     "evalue": "Invalid age",
     "output_type": "error",
     "traceback": [
      "\u001b[0;31m---------------------------------------------------------------------------\u001b[0m",
      "\u001b[0;31mValueError\u001b[0m                                Traceback (most recent call last)",
      "\u001b[1;32m/home/wonseok/2022_DIVE_INTO_DEEPLEARNING/notebooks/20220219_text_preprocessing.ipynb Cell 8'\u001b[0m in \u001b[0;36m<module>\u001b[0;34m\u001b[0m\n\u001b[1;32m     <a href='vscode-notebook-cell://ssh-remote%2B112.169.81.70/home/wonseok/2022_DIVE_INTO_DEEPLEARNING/notebooks/20220219_text_preprocessing.ipynb#ch0000007vscode-remote?line=14'>15</a>\u001b[0m         \u001b[39mself\u001b[39m\u001b[39m.\u001b[39m_age \u001b[39m=\u001b[39m age\n\u001b[1;32m     <a href='vscode-notebook-cell://ssh-remote%2B112.169.81.70/home/wonseok/2022_DIVE_INTO_DEEPLEARNING/notebooks/20220219_text_preprocessing.ipynb#ch0000007vscode-remote?line=16'>17</a>\u001b[0m me \u001b[39m=\u001b[39m Person(\u001b[39m'\u001b[39m\u001b[39mwonseok\u001b[39m\u001b[39m'\u001b[39m, \u001b[39m'\u001b[39m\u001b[39mjang\u001b[39m\u001b[39m'\u001b[39m, \u001b[39m10\u001b[39m)\n\u001b[0;32m---> <a href='vscode-notebook-cell://ssh-remote%2B112.169.81.70/home/wonseok/2022_DIVE_INTO_DEEPLEARNING/notebooks/20220219_text_preprocessing.ipynb#ch0000007vscode-remote?line=17'>18</a>\u001b[0m me\u001b[39m.\u001b[39mage \u001b[39m=\u001b[39m \u001b[39m-\u001b[39m\u001b[39m11\u001b[39m\n\u001b[1;32m     <a href='vscode-notebook-cell://ssh-remote%2B112.169.81.70/home/wonseok/2022_DIVE_INTO_DEEPLEARNING/notebooks/20220219_text_preprocessing.ipynb#ch0000007vscode-remote?line=18'>19</a>\u001b[0m me\u001b[39m.\u001b[39mage\n",
      "\u001b[1;32m/home/wonseok/2022_DIVE_INTO_DEEPLEARNING/notebooks/20220219_text_preprocessing.ipynb Cell 8'\u001b[0m in \u001b[0;36mPerson.age\u001b[0;34m(self, age)\u001b[0m\n\u001b[1;32m     <a href='vscode-notebook-cell://ssh-remote%2B112.169.81.70/home/wonseok/2022_DIVE_INTO_DEEPLEARNING/notebooks/20220219_text_preprocessing.ipynb#ch0000007vscode-remote?line=10'>11</a>\u001b[0m \u001b[39m@age\u001b[39m\u001b[39m.\u001b[39msetter\n\u001b[1;32m     <a href='vscode-notebook-cell://ssh-remote%2B112.169.81.70/home/wonseok/2022_DIVE_INTO_DEEPLEARNING/notebooks/20220219_text_preprocessing.ipynb#ch0000007vscode-remote?line=11'>12</a>\u001b[0m \u001b[39mdef\u001b[39;00m \u001b[39mage\u001b[39m(\u001b[39mself\u001b[39m, age):\n\u001b[1;32m     <a href='vscode-notebook-cell://ssh-remote%2B112.169.81.70/home/wonseok/2022_DIVE_INTO_DEEPLEARNING/notebooks/20220219_text_preprocessing.ipynb#ch0000007vscode-remote?line=12'>13</a>\u001b[0m     \u001b[39mif\u001b[39;00m age \u001b[39m<\u001b[39m \u001b[39m0\u001b[39m :\n\u001b[0;32m---> <a href='vscode-notebook-cell://ssh-remote%2B112.169.81.70/home/wonseok/2022_DIVE_INTO_DEEPLEARNING/notebooks/20220219_text_preprocessing.ipynb#ch0000007vscode-remote?line=13'>14</a>\u001b[0m         \u001b[39mraise\u001b[39;00m \u001b[39mValueError\u001b[39;00m(\u001b[39m\"\u001b[39m\u001b[39mInvalid age\u001b[39m\u001b[39m\"\u001b[39m)\n\u001b[1;32m     <a href='vscode-notebook-cell://ssh-remote%2B112.169.81.70/home/wonseok/2022_DIVE_INTO_DEEPLEARNING/notebooks/20220219_text_preprocessing.ipynb#ch0000007vscode-remote?line=14'>15</a>\u001b[0m     \u001b[39mself\u001b[39m\u001b[39m.\u001b[39m_age \u001b[39m=\u001b[39m age\n",
      "\u001b[0;31mValueError\u001b[0m: Invalid age"
     ]
    }
   ],
   "source": [
    "class Person:\n",
    "    def __init__(self,firstname, lastname, age):\n",
    "        self.firstname = firstname\n",
    "        self.lastname = lastname\n",
    "        self.age = age\n",
    "    \n",
    "    @property\n",
    "    def age(self):\n",
    "        return self._age\n",
    "    \n",
    "    @age.setter\n",
    "    def age(self, age):\n",
    "        if age < 0 :\n",
    "            raise ValueError(\"Invalid age\")\n",
    "        self._age = age\n",
    "\n",
    "me = Person('wonseok', 'jang', 10)\n",
    "me.age = -11\n",
    "me.age"
   ]
  },
  {
   "cell_type": "markdown",
   "metadata": {},
   "source": [
    "Another example"
   ]
  },
  {
   "cell_type": "code",
   "execution_count": 6,
   "metadata": {},
   "outputs": [
    {
     "name": "stdout",
     "output_type": "stream",
     "text": [
      "wonseok jang\n",
      "wonseok jang\n"
     ]
    }
   ],
   "source": [
    "class Person:\n",
    "    def __init__(self, first_name, last_name, age):\n",
    "        self.first_name = first_name\n",
    "        self.last_name = last_name\n",
    "        self.age = age\n",
    "    \n",
    "    # @property\n",
    "    def full_name(self):\n",
    "        return self.first_name + \" \" + self.last_name\n",
    "\n",
    "me = Person('wonseok','jang', 30)\n",
    "print(me.full_name())\n",
    "\n",
    "\n",
    "class Person:\n",
    "    def __init__(self, first_name, last_name, age):\n",
    "        self.first_name = first_name\n",
    "        self.last_name = last_name\n",
    "        self.age = age\n",
    "    \n",
    "    @property\n",
    "    def full_name(self):\n",
    "        return self.first_name + \" \" + self.last_name\n",
    "\n",
    "me = Person('wonseok','jang', 30)\n",
    "print(me.full_name)"
   ]
  },
  {
   "cell_type": "code",
   "execution_count": 7,
   "metadata": {},
   "outputs": [],
   "source": [
    "class Vocab:\n",
    "    '''\n",
    "    Vocabulary for text\n",
    "    '''\n",
    "    def __init__(self, tokens=None, min_freq=0, reserved_tokens=None):\n",
    "        if tokens is None:\n",
    "            tokens = []\n",
    "        if reserved_tokens is None :\n",
    "            reserved_tokens = []\n",
    "        # Sort according to frequencies\n",
    "        counter = count_corpus(tokens)\n",
    "        # sorting by keys\n",
    "        self._token_freqs = sorted(counter.items(), key=lambda x: x[1], reverse=True)\n",
    "        \n",
    "        # The index for unknwon token is 0\n",
    "        self.idx_to_token = ['<unk>'] + reserved_tokens\n",
    "        self.token_to_idx = {token : idx for idx, token in enumerate(self.idx_to_token)}\n",
    "        \n",
    "        for token, freq in self._token_freqs:\n",
    "            if freq < min_freq:\n",
    "                break\n",
    "            if token not in self.token_to_idx:\n",
    "                self.idx_to_token.append(token)\n",
    "                self.token_to_idx[token] = len(self.idx_to_token) -1\n",
    "    \n",
    "    def __len__(self):\n",
    "        return len(self.idx_to_token)\n",
    "    \n",
    "    def __getitem__(self, tokens):\n",
    "        if not isinstance(tokens, (list, tuple)):\n",
    "            return self.token_to_idx.get(tokens, self.unk)\n",
    "        return [self.__getitem__(token) for token in tokens]\n",
    "\n",
    "    def to_tokens(self, indices):\n",
    "        if not isinstance(indices, (list, tuple)):\n",
    "            return self.idx_to_token[indices]\n",
    "        return [self.idx_to_token[index] for index in indices]\n",
    "    \n",
    "    @property\n",
    "    def unk(self): # index for the unknown token\n",
    "        return 0\n",
    "    \n",
    "    @property\n",
    "    def token_freqs(self): # Index for the unkown token\n",
    "        return self._token_freqs\n",
    "    \n",
    "def count_corpus(tokens:list):\n",
    "    '''\n",
    "    Count token frequencies\n",
    "    '''\n",
    "    if len(tokens) == 0 or isinstance(tokens[0], list):\n",
    "        tokens = [token for line in tokens for token in line]\n",
    "    \n",
    "    return collections.Counter(tokens)\n",
    "            "
   ]
  },
  {
   "cell_type": "code",
   "execution_count": 8,
   "metadata": {},
   "outputs": [],
   "source": [
    "vocab = Vocab(tokens)"
   ]
  },
  {
   "cell_type": "code",
   "execution_count": 10,
   "metadata": {},
   "outputs": [
    {
     "name": "stdout",
     "output_type": "stream",
     "text": [
      "words ['the', 'time', 'machine', 'by', 'h', 'g', 'wells']\n",
      "indices [1, 19, 50, 40, 2183, 2184, 400]\n",
      "words ['twinkled', 'and', 'his', 'usually', 'pale', 'face', 'was', 'flushed', 'and', 'animated', 'the']\n",
      "indices [2186, 3, 25, 1044, 362, 113, 7, 1421, 3, 1045, 1]\n"
     ]
    }
   ],
   "source": [
    "for i in [0,10]:\n",
    "    print('words', tokens[i])\n",
    "    print('indices' , vocab[tokens[i]])"
   ]
  },
  {
   "cell_type": "code",
   "execution_count": 20,
   "metadata": {},
   "outputs": [],
   "source": [
    "def load_corpus_time_machine(max_tokens=-1):\n",
    "    '''\n",
    "    returns token indices and the vocabulary of the time machine dataset.\n",
    "    '''\n",
    "    lines = read_time_machine()\n",
    "    tokens = tokenize(lines, 'char')\n",
    "    vocab = Vocab(tokens)\n",
    "    # Since each text line in the time machiine dataset is not necessarily a \n",
    "    # sentence or a paragraph, flatten all the text lines into a single list\n",
    "    corpus = [vocab[token] for line in tokens for token in line]\n",
    "    if max_tokens > 0 :\n",
    "        corpus = corpus[:max_tokens]\n",
    "    return corpus, vocab\n",
    "\n",
    "\n",
    "_, voc = load_corpus_time_machine()"
   ]
  }
 ],
 "metadata": {
  "interpreter": {
   "hash": "5a12aebe7e9621cdb0fd899285562b57c269cf8d403e0406b59548b742c91995"
  },
  "kernelspec": {
   "display_name": "Python 3.8.12 64-bit ('2022_diveintodeeplearning')",
   "language": "python",
   "name": "python3"
  },
  "language_info": {
   "codemirror_mode": {
    "name": "ipython",
    "version": 3
   },
   "file_extension": ".py",
   "mimetype": "text/x-python",
   "name": "python",
   "nbconvert_exporter": "python",
   "pygments_lexer": "ipython3",
   "version": "3.8.12"
  },
  "orig_nbformat": 4
 },
 "nbformat": 4,
 "nbformat_minor": 2
}
